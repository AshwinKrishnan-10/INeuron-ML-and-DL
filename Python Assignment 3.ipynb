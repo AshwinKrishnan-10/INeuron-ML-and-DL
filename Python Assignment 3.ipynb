{
 "cells": [
  {
   "cell_type": "markdown",
   "metadata": {},
   "source": [
    "### Python Assignment 3"
   ]
  },
  {
   "cell_type": "code",
   "execution_count": 1,
   "metadata": {},
   "outputs": [
    {
     "data": {
      "text/plain": [
       "1"
      ]
     },
     "execution_count": 1,
     "metadata": {},
     "output_type": "execute_result"
    }
   ],
   "source": [
    "### 1.1 Write a Python Program to implement your own myreduce() function which works exactly\n",
    "###     like Python's built-in function reduce()\n",
    "\n",
    "\n",
    "### Implementation of finding minimum element in a list using reduce() funtion.\n",
    "\n",
    "from functools import reduce\n",
    "lst = [90,45,12,100,73,3,4,1]\n",
    "\n",
    "min_list = reduce(lambda x,y : x if (x<y) else y , lst)\n",
    "min_list\n"
   ]
  },
  {
   "cell_type": "code",
   "execution_count": 2,
   "metadata": {},
   "outputs": [
    {
     "name": "stdout",
     "output_type": "stream",
     "text": [
      "1\n"
     ]
    }
   ],
   "source": [
    "### Implementation of finding minimum element in a list using user-defined myreduce() function.\n",
    "\n",
    "def myreduce(lst):\n",
    "    minimum = lst[0]\n",
    "    for i in range(1,len(lst)):\n",
    "        if(minimum < lst[i]):\n",
    "            minimum = minimum\n",
    "        else:\n",
    "            minimum = lst[i]\n",
    "            \n",
    "    return minimum\n",
    "\n",
    "list_min = myreduce(lst)\n",
    "print(list_min)"
   ]
  },
  {
   "cell_type": "code",
   "execution_count": 3,
   "metadata": {},
   "outputs": [
    {
     "name": "stdout",
     "output_type": "stream",
     "text": [
      "[2, 3, 157, 19, 31, 29]\n"
     ]
    }
   ],
   "source": [
    "### 1.2 Write a Python program to implement your own myfilter() function which works exactly\n",
    "###     like Python's built-in function filter()\n",
    "\n",
    "### Implementation of finding prime number in a list using filter() function\n",
    "\n",
    "from math import sqrt,floor\n",
    "\n",
    "lst1 = [-20,1,2,3,407,157,153,119,19,31,501,417,29]\n",
    "\n",
    "def prime_check(num):\n",
    "    \n",
    "    flag = False\n",
    "    \n",
    "    if(num == 2):  ### As number 2 is execptional case, as the number 2 is only even prime number.\n",
    "        flag = True\n",
    "    \n",
    "    elif(num > 1 and num % 2 != 0): ### As negative numbers and even numbers are not prime numbers, omitting them in this condition.\n",
    "        \n",
    "        ### If a number is divisible by any numbers from 3 to square root of the number itself, then it is not a prime number.\n",
    "        ### Else a prime number.\n",
    "        \n",
    "        for i in range(3,floor(sqrt(num))+1,2): ### Most efficient way to find a number is prime or not and to reduce the time complexity of execution.\n",
    "            if(num % i == 0):       ### This condition checks whether the number is divisible by other numbers other than one and itself\n",
    "                flag = False        ### If divisible then it is not a prime number. It is composite number then.\n",
    "                break\n",
    "            \n",
    "            else:\n",
    "                continue\n",
    "                \n",
    "        else:\n",
    "            flag = True\n",
    "            \n",
    "    else:\n",
    "        flag = False\n",
    "        \n",
    "    return flag        \n",
    "        \n",
    "            \n",
    "\n",
    "prime_list = list(filter(prime_check, lst1))\n",
    "print(prime_list)"
   ]
  },
  {
   "cell_type": "code",
   "execution_count": 4,
   "metadata": {},
   "outputs": [
    {
     "name": "stdout",
     "output_type": "stream",
     "text": [
      "[2, 3, 157, 19, 31, 29]\n"
     ]
    }
   ],
   "source": [
    "### Implementation of finding prime number in a list using user-defined myfilter() function\n",
    "\n",
    "from math import sqrt,ceil\n",
    "\n",
    "def myfilter(lst1):\n",
    "    \n",
    "    final_prime_list = []\n",
    "    \n",
    "    for num in lst1:        \n",
    "    \n",
    "        if(num == 2):\n",
    "            final_prime_list.append(num)\n",
    "\n",
    "        elif(num > 1 and num % 2 != 0):\n",
    "\n",
    "            for i in range(3,ceil(sqrt(num))+1,2):\n",
    "                if(num % i == 0):\n",
    "                    break\n",
    "\n",
    "                else:\n",
    "                    continue\n",
    "\n",
    "            else:\n",
    "                final_prime_list.append(num)\n",
    "\n",
    "        else:\n",
    "            continue\n",
    "        \n",
    "    return final_prime_list\n",
    "    \n",
    "    \n",
    "lst1 = [-20,1,2,3,407,157,153,119,19,31,501,417,29]\n",
    "\n",
    "final_prime_list = myfilter(lst1)\n",
    "print(final_prime_list)"
   ]
  },
  {
   "cell_type": "code",
   "execution_count": 5,
   "metadata": {},
   "outputs": [
    {
     "data": {
      "text/plain": [
       "['x', 'xx', 'xxx', 'xxxx', 'y', 'yy', 'yyy', 'yyyy', 'z', 'zz', 'zzz', 'zzzz']"
      ]
     },
     "execution_count": 5,
     "metadata": {},
     "output_type": "execute_result"
    }
   ],
   "source": [
    "### 2. Implement List comprehensions to produce the following lists.\n",
    "### Write List comprehensions to produce the following Lists\n",
    "\n",
    "\n",
    "### ['x', 'xx', 'xxx', 'xxxx', 'y', 'yy', 'yyy', 'yyyy', 'z', 'zz', 'zzz', 'zzzz']\n",
    "\n",
    "[((j+1) * i) for i in ['x','y','z'] for j in range(4)]\n"
   ]
  },
  {
   "cell_type": "code",
   "execution_count": 6,
   "metadata": {},
   "outputs": [
    {
     "data": {
      "text/plain": [
       "['x', 'y', 'z', 'xx', 'yy', 'zz', 'xxx', 'yyy', 'zzz', 'xxxx', 'yyyy', 'zzzz']"
      ]
     },
     "execution_count": 6,
     "metadata": {},
     "output_type": "execute_result"
    }
   ],
   "source": [
    "### ['x', 'y', 'z', 'xx', 'yy', 'zz', 'xxx', 'yyy', 'zzz', 'xxxx', 'yyyy', 'zzzz']\n",
    "\n",
    "[((i+1) * j) for i in range(4) for j in ['x','y','z']]\n"
   ]
  },
  {
   "cell_type": "code",
   "execution_count": 7,
   "metadata": {},
   "outputs": [
    {
     "data": {
      "text/plain": [
       "[[2], [3], [4], [3], [4], [5], [4], [5], [6]]"
      ]
     },
     "execution_count": 7,
     "metadata": {},
     "output_type": "execute_result"
    }
   ],
   "source": [
    "### Nested List comprehensions\n",
    "### [[2], [3], [4], [3], [4], [5], [4], [5], [6]]   \n",
    "\n",
    "[[i+j] for i in [2,3,4] for j in range(3)]   \n"
   ]
  },
  {
   "cell_type": "code",
   "execution_count": 8,
   "metadata": {},
   "outputs": [
    {
     "data": {
      "text/plain": [
       "[[2, 3, 4, 5], [3, 4, 5, 6], [4, 5, 6, 7], [5, 6, 7, 8]]"
      ]
     },
     "execution_count": 8,
     "metadata": {},
     "output_type": "execute_result"
    }
   ],
   "source": [
    "### [[2, 3, 4, 5], [3, 4, 5, 6], [4, 5, 6, 7], [5, 6, 7, 8]]\n",
    "\n",
    "[[j+i for j in range(4)] for i in [2,3,4,5]]\n"
   ]
  },
  {
   "cell_type": "code",
   "execution_count": 9,
   "metadata": {},
   "outputs": [
    {
     "data": {
      "text/plain": [
       "[[2, 3, 4, 5], [3, 4, 5, 6], [4, 5, 6, 7], [5, 6, 7, 8]]"
      ]
     },
     "execution_count": 9,
     "metadata": {},
     "output_type": "execute_result"
    }
   ],
   "source": [
    "### [[2, 3, 4, 5], [3, 4, 5, 6], [4, 5, 6, 7], [5, 6, 7, 8]]\n",
    "### Alternate solution without list comprehension\n",
    "\n",
    "lst1 = []\n",
    "\n",
    "for i in [2,3,4,5]:\n",
    "    lst2 = []\n",
    "    for j in range(4):\n",
    "        lst2.append(j+i)\n",
    "    lst1.append(lst2)   \n",
    "    \n",
    "lst1    "
   ]
  },
  {
   "cell_type": "code",
   "execution_count": 10,
   "metadata": {},
   "outputs": [
    {
     "data": {
      "text/plain": [
       "[(1, 1), (2, 1), (3, 1), (1, 2), (2, 2), (3, 2), (1, 3), (2, 3), (3, 3)]"
      ]
     },
     "execution_count": 10,
     "metadata": {},
     "output_type": "execute_result"
    }
   ],
   "source": [
    "### [(1, 1), (2, 1), (3, 1), (1, 2), (2, 2), (3, 2), (1, 3), (2, 3), (3, 3)]\n",
    "        \n",
    "[(j,i) for i in [1,2,3] for j in [1,2,3]]\n"
   ]
  },
  {
   "cell_type": "code",
   "execution_count": null,
   "metadata": {},
   "outputs": [],
   "source": []
  },
  {
   "cell_type": "code",
   "execution_count": null,
   "metadata": {},
   "outputs": [],
   "source": []
  }
 ],
 "metadata": {
  "kernelspec": {
   "display_name": "Python 3",
   "language": "python",
   "name": "python3"
  },
  "language_info": {
   "codemirror_mode": {
    "name": "ipython",
    "version": 3
   },
   "file_extension": ".py",
   "mimetype": "text/x-python",
   "name": "python",
   "nbconvert_exporter": "python",
   "pygments_lexer": "ipython3",
   "version": "3.7.6"
  }
 },
 "nbformat": 4,
 "nbformat_minor": 4
}
