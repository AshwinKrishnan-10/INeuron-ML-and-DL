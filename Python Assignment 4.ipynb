{
 "cells": [
  {
   "cell_type": "markdown",
   "metadata": {},
   "source": [
    "### Python Assignment 4"
   ]
  },
  {
   "cell_type": "code",
   "execution_count": 1,
   "metadata": {},
   "outputs": [
    {
     "name": "stdout",
     "output_type": "stream",
     "text": [
      "Enter length of side1 : 4\n",
      "Enter length of side2 : 3\n",
      "Enter length of side3 : 5\n",
      "The area of triangle is 6.0\n"
     ]
    }
   ],
   "source": [
    "### 1.1 Write a Python Program(with class concepts) to find the area of the triangle using the below\n",
    "###     formula.\n",
    "###     area = (s*(s-a)*(s-b)*(s-c)) ** 0.5\n",
    "###     Function to take the length of the sides of triangle from user should be defined in the parent\n",
    "###     class and function to calculate the area should be defined in subclass.\n",
    "\n",
    "class Triangle:\n",
    "    def __init__(self,a,b,c):\n",
    "        self.a = a\n",
    "        self.b = b\n",
    "        self.c = c\n",
    "        \n",
    "class Area(Triangle):\n",
    "    def __init__(self,*args):\n",
    "        super().__init__(*args)\n",
    "        self.s = None\n",
    "        self.area = None\n",
    "        \n",
    "    def calculate(self):\n",
    "        self.s = (self.a + self.b + self.c) / 2\n",
    "        self.area = (self.s * (self.s - self.a) * (self.s - self.b) * (self.s - self.c)) ** 0.5\n",
    "        return self.area\n",
    "    \n",
    "d = int(input(\"Enter length of side1 : \"))\n",
    "e = int(input(\"Enter length of side2 : \"))\n",
    "f = int(input(\"Enter length of side3 : \"))\n",
    "a = Area(d,e,f)\n",
    "print(\"The area of triangle is\",a.calculate())"
   ]
  },
  {
   "cell_type": "code",
   "execution_count": 2,
   "metadata": {},
   "outputs": [
    {
     "data": {
      "text/plain": [
       "['Python', 'Machine Learning', 'Deep Learning']"
      ]
     },
     "execution_count": 2,
     "metadata": {},
     "output_type": "execute_result"
    }
   ],
   "source": [
    "### 1.2 Write a function filter_long_words() that takes a list of words and an integer n and returns\n",
    "###     the list of words that are longer than n.\n",
    "\n",
    "def filter_long_words(lst,n):\n",
    "    \n",
    "    long_words_list = []\n",
    "    \n",
    "    for i in lst:\n",
    "        if(len(i) > n):\n",
    "            long_words_list.append(i)\n",
    "        else:\n",
    "            continue\n",
    "            \n",
    "    return long_words_list\n",
    "\n",
    "lst = ['Hello','World','Python','Machine Learning','Deep Learning']\n",
    "n = 5\n",
    "filter_long_words(lst,n)\n",
    "    "
   ]
  },
  {
   "cell_type": "code",
   "execution_count": 3,
   "metadata": {},
   "outputs": [
    {
     "data": {
      "text/plain": [
       "[2, 3, 4]"
      ]
     },
     "execution_count": 3,
     "metadata": {},
     "output_type": "execute_result"
    }
   ],
   "source": [
    "### 2.1 Write a Python program using function concept that maps list of words into a list of integers\n",
    "###     representing the lengths of the corresponding words.\n",
    "###     Hint: If a list [ ab,cde,erty] is passed on to the python function output should come as [2,3,4]\n",
    "###     Here 2,3 and 4 are the lengths of the words in the list.\n",
    "\n",
    "def length_words(lst):\n",
    "    \n",
    "    length_list = []\n",
    "    for i in lst:\n",
    "        length_list.append(len(i))\n",
    "        \n",
    "    return length_list    \n",
    "    \n",
    "lst = ['ab','cde','erty']\n",
    "length_words(lst)"
   ]
  },
  {
   "cell_type": "code",
   "execution_count": 4,
   "metadata": {},
   "outputs": [
    {
     "data": {
      "text/plain": [
       "True"
      ]
     },
     "execution_count": 4,
     "metadata": {},
     "output_type": "execute_result"
    }
   ],
   "source": [
    "### 2.2 Write a Python function which takes a character (i.e. a string of length 1) and returns True if\n",
    "###     it is a vowel, False otherwise.\n",
    "\n",
    "def is_vowel_or_not(character):\n",
    "    \n",
    "    if character in ['a','e','i','o','u','A','E','I','O','U']:\n",
    "        return True\n",
    "    else:\n",
    "        return False\n",
    "\n",
    "is_vowel_or_not('U')    "
   ]
  },
  {
   "cell_type": "code",
   "execution_count": 5,
   "metadata": {},
   "outputs": [
    {
     "data": {
      "text/plain": [
       "False"
      ]
     },
     "execution_count": 5,
     "metadata": {},
     "output_type": "execute_result"
    }
   ],
   "source": [
    "is_vowel_or_not('y')"
   ]
  },
  {
   "cell_type": "code",
   "execution_count": null,
   "metadata": {},
   "outputs": [],
   "source": []
  }
 ],
 "metadata": {
  "kernelspec": {
   "display_name": "Python 3",
   "language": "python",
   "name": "python3"
  },
  "language_info": {
   "codemirror_mode": {
    "name": "ipython",
    "version": 3
   },
   "file_extension": ".py",
   "mimetype": "text/x-python",
   "name": "python",
   "nbconvert_exporter": "python",
   "pygments_lexer": "ipython3",
   "version": "3.7.6"
  }
 },
 "nbformat": 4,
 "nbformat_minor": 4
}
