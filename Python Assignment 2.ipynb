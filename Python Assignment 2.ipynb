{
 "cells": [
  {
   "cell_type": "markdown",
   "metadata": {},
   "source": [
    "### Python Assignment 2"
   ]
  },
  {
   "cell_type": "code",
   "execution_count": 1,
   "metadata": {},
   "outputs": [
    {
     "name": "stdout",
     "output_type": "stream",
     "text": [
      "\r\n",
      "* \r\n",
      "* * \r\n",
      "* * * \r\n",
      "* * * * \r\n",
      "* * * * * \r\n",
      "* * * * \r\n",
      "* * * \r\n",
      "* * \r\n",
      "* \r\n"
     ]
    }
   ],
   "source": [
    "### 1. Create the below pattern using nested for loop in Python.\n",
    "\n",
    "### *\n",
    "### * *\n",
    "### * * *\n",
    "### * * * *\n",
    "### * * * * *\n",
    "### * * * *\n",
    "### * * *\n",
    "### * *\n",
    "### *\n",
    "\n",
    "n = 5\n",
    "\n",
    "print(\"\\r\")\n",
    "\n",
    "for i in range(n):\n",
    "    for j in range(i+1):\n",
    "        print('*', end=\" \")  ### end=\" \" - To continue printing the next iteration elements of the same inner for loop in the same line.\n",
    "                             ### By default the value of end parameter in print function is \\n, which is new line.\n",
    "    print(\"\\r\")              ### \"\\r\" - indicates to traverse to new row for the next iteration of outer for loop.\n",
    "        \n",
    "for m in range(n-1,0,-1):\n",
    "    for k in range(m):\n",
    "        print('*', end=\" \")\n",
    "        \n",
    "    print(\"\\r\")    \n"
   ]
  },
  {
   "cell_type": "code",
   "execution_count": 2,
   "metadata": {},
   "outputs": [
    {
     "name": "stdout",
     "output_type": "stream",
     "text": [
      "Enter the number of maximum stars to be printed in the star printing pattern : 10\n",
      "\n",
      "* \n",
      "* * \n",
      "* * * \n",
      "* * * * \n",
      "* * * * * \n",
      "* * * * * * \n",
      "* * * * * * * \n",
      "* * * * * * * * \n",
      "* * * * * * * * * \n",
      "* * * * * * * * * * \n",
      "* * * * * * * * * \n",
      "* * * * * * * * \n",
      "* * * * * * * \n",
      "* * * * * * \n",
      "* * * * * \n",
      "* * * * \n",
      "* * * \n",
      "* * \n",
      "* \n"
     ]
    }
   ],
   "source": [
    "### Alternate solution to get the number of maximum * to be printed from the user.\n",
    "\n",
    "n = int(input(\"Enter the number of maximum stars to be printed in the star printing pattern : \"))\n",
    "\n",
    "print(\"\\r\")\n",
    "\n",
    "for i in range(n):\n",
    "    for j in range(i+1):\n",
    "        print('*', end=\" \")\n",
    "        \n",
    "    print(\"\\r\")\n",
    "        \n",
    "for m in range(n-1,0,-1):\n",
    "    for k in range(m):\n",
    "        print('*', end=\" \")\n",
    "        \n",
    "    print(\"\\r\")    "
   ]
  },
  {
   "cell_type": "code",
   "execution_count": 3,
   "metadata": {},
   "outputs": [
    {
     "name": "stdout",
     "output_type": "stream",
     "text": [
      "Enter a word to find the reverse of the same word : Hello World!!!\n",
      "The reverse of the above entered word is : !!!dlroW olleH\n"
     ]
    }
   ],
   "source": [
    "### 2. Write a Python program to reverse a word after accepting the input from the user.\n",
    "\n",
    "### Sample Output : \n",
    "\n",
    "### Input Word : ineuron\n",
    "### Output Word : norueni\n",
    "\n",
    "word = input(\"Enter a word to find the reverse of the same word : \")\n",
    "\n",
    "print(\"The reverse of the above entered word is :\",word[::-1])"
   ]
  },
  {
   "cell_type": "code",
   "execution_count": null,
   "metadata": {},
   "outputs": [],
   "source": []
  }
 ],
 "metadata": {
  "kernelspec": {
   "display_name": "Python 3",
   "language": "python",
   "name": "python3"
  },
  "language_info": {
   "codemirror_mode": {
    "name": "ipython",
    "version": 3
   },
   "file_extension": ".py",
   "mimetype": "text/x-python",
   "name": "python",
   "nbconvert_exporter": "python",
   "pygments_lexer": "ipython3",
   "version": "3.7.6"
  }
 },
 "nbformat": 4,
 "nbformat_minor": 4
}
